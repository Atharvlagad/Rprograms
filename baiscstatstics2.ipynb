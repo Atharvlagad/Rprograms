{
  "nbformat": 4,
  "nbformat_minor": 0,
  "metadata": {
    "colab": {
      "provenance": []
    },
    "kernelspec": {
      "name": "python3",
      "display_name": "Python 3"
    },
    "language_info": {
      "name": "python"
    }
  },
  "cells": [
    {
      "cell_type": "code",
      "execution_count": null,
      "metadata": {
        "colab": {
          "base_uri": "https://localhost:8080/"
        },
        "id": "DtCgQSaa8Iqi",
        "outputId": "3e7b31e1-7dfb-4bee-d311-cff3552a5e20"
      },
      "outputs": [
        {
          "output_type": "stream",
          "name": "stdout",
          "text": [
            "Sample Mean: 1.2387\n",
            "Sample Std Dev: 0.1932\n",
            "\n",
            "99% Confidence Interval using t-distribution: 1.0902 to 1.3871\n",
            "99% Confidence Interval using z-distribution: 1.1057 to 1.3717\n"
          ]
        }
      ],
      "source": [
        "import numpy as np\n",
        "from scipy import stats\n",
        "\n",
        "data = [1.13, 1.55, 1.43, 0.92, 1.25, 1.36, 1.32, 0.85, 1.07, 1.48,\n",
        "        1.20, 1.33, 1.18, 1.22, 1.29]\n",
        "\n",
        "# Basic statistics\n",
        "n = len(data)\n",
        "mean = np.mean(data)\n",
        "sample_std = np.std(data, ddof=1)  # Sample standard deviation\n",
        "confidence = 0.99\n",
        "\n",
        "#a.Confidence Interval using t-distribution ---\n",
        "alpha = 1 - confidence\n",
        "t_critical = stats.t.ppf(1 - alpha/2, df=n-1)\n",
        "margin_of_error_t = t_critical * (sample_std / np.sqrt(n))\n",
        "ci_t = (mean - margin_of_error_t, mean + margin_of_error_t)\n",
        "\n",
        "#b.Confidence Interval using z-distribution (known population std dev) ---\n",
        "pop_std = 0.2  # known population standard deviation\n",
        "z_critical = stats.norm.ppf(1 - alpha/2)\n",
        "margin_of_error_z = z_critical * (pop_std / np.sqrt(n))\n",
        "ci_z = (mean - margin_of_error_z, mean + margin_of_error_z)\n",
        "\n",
        "# Output the results\n",
        "print(f\"Sample Mean: {mean:.4f}\")\n",
        "print(f\"Sample Std Dev: {sample_std:.4f}\")\n",
        "print(f\"\\n99% Confidence Interval using t-distribution: {ci_t[0]:.4f} to {ci_t[1]:.4f}\")\n",
        "print(f\"99% Confidence Interval using z-distribution: {ci_z[0]:.4f} to {ci_z[1]:.4f}\")\n"
      ]
    },
    {
      "cell_type": "code",
      "source": [],
      "metadata": {
        "id": "uNs3GNR5864t"
      },
      "execution_count": null,
      "outputs": []
    }
  ]
}