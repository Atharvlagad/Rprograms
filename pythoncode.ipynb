{
  "cells": [
    {
      "cell_type": "code",
      "execution_count": 23,
      "metadata": {
        "colab": {
          "base_uri": "https://localhost:8080/"
        },
        "id": "x5On5p4B-QA8",
        "outputId": "3b92cd03-6518-4665-e98e-9dde48156c54"
      },
      "outputs": [
        {
          "output_type": "stream",
          "name": "stdout",
          "text": [
            "Enter a number to check if it's prime: 1\n",
            "1 is not a prime number.\n"
          ]
        }
      ],
      "source": [
        "def is_prime(num):\n",
        "    \"\"\"\n",
        "Checks if a given number is prime.\n",
        "Args: num: The integer to be checked.\n",
        "Returns: True if the number is prime, False otherwise.\n",
        "    \"\"\"\n",
        "    if num <= 1:\n",
        "        return False\n",
        "    for i in range(2, int(num**0.5) + 1):\n",
        "        if num % i == 0:\n",
        "            return False\n",
        "    return True\n",
        "try:\n",
        "    number = int(input(\"Enter a number to check if it's prime: \"))\n",
        "    if is_prime(number):\n",
        "        print(f\"{number} is a prime number.\")\n",
        "    else:\n",
        "        print(f\"{number} is not a prime number.\")\n",
        "except ValueError:\n",
        "    print(\"Invalid input. Please enter an integer.\")\n"
      ]
    },
    {
      "cell_type": "code",
      "execution_count": 4,
      "metadata": {
        "id": "KxQrat_U-ZQk",
        "colab": {
          "base_uri": "https://localhost:8080/"
        },
        "outputId": "32816b89-8276-40a2-8047-2d98d4956602"
      },
      "outputs": [
        {
          "output_type": "stream",
          "name": "stdout",
          "text": [
            "\n",
            "Exercise 2: Product of Random Numbers\n",
            "What is the product of 8 and 2?\n",
            "Your answer: 16\n",
            "Correct!\n"
          ]
        }
      ],
      "source": [
        "import random\n",
        "\n",
        "print(\"\\nExercise 2: Product of Random Numbers\")\n",
        "num1 = random.randint(1, 10)\n",
        "num2 = random.randint(1, 10)\n",
        "\n",
        "print(f\"What is the product of {num1} and {num2}?\")\n",
        "user_answer = int(input(\"Your answer: \"))\n",
        "\n",
        "if user_answer == num1 * num2:\n",
        "    print(\"Correct!\")\n",
        "else:\n",
        "    print(f\"Wrong. The correct answer is {num1 * num2}.\")"
      ]
    },
    {
      "cell_type": "code",
      "execution_count": 5,
      "metadata": {
        "id": "Kd8wK4eB-4fm",
        "colab": {
          "base_uri": "https://localhost:8080/"
        },
        "collapsed": true,
        "outputId": "25733a81-37e6-4493-85f5-be7c68d59125"
      },
      "outputs": [
        {
          "output_type": "stream",
          "name": "stdout",
          "text": [
            "\n",
            "Exercise 3: Squares of Even Numbers (100 to 200)\n",
            "100^2 = 10000\n",
            "102^2 = 10404\n",
            "104^2 = 10816\n",
            "106^2 = 11236\n",
            "108^2 = 11664\n",
            "110^2 = 12100\n",
            "112^2 = 12544\n",
            "114^2 = 12996\n",
            "116^2 = 13456\n",
            "118^2 = 13924\n",
            "120^2 = 14400\n",
            "122^2 = 14884\n",
            "124^2 = 15376\n",
            "126^2 = 15876\n",
            "128^2 = 16384\n",
            "130^2 = 16900\n",
            "132^2 = 17424\n",
            "134^2 = 17956\n",
            "136^2 = 18496\n",
            "138^2 = 19044\n",
            "140^2 = 19600\n",
            "142^2 = 20164\n",
            "144^2 = 20736\n",
            "146^2 = 21316\n",
            "148^2 = 21904\n",
            "150^2 = 22500\n",
            "152^2 = 23104\n",
            "154^2 = 23716\n",
            "156^2 = 24336\n",
            "158^2 = 24964\n",
            "160^2 = 25600\n",
            "162^2 = 26244\n",
            "164^2 = 26896\n",
            "166^2 = 27556\n",
            "168^2 = 28224\n",
            "170^2 = 28900\n",
            "172^2 = 29584\n",
            "174^2 = 30276\n",
            "176^2 = 30976\n",
            "178^2 = 31684\n",
            "180^2 = 32400\n",
            "182^2 = 33124\n",
            "184^2 = 33856\n",
            "186^2 = 34596\n",
            "188^2 = 35344\n",
            "190^2 = 36100\n",
            "192^2 = 36864\n",
            "194^2 = 37636\n",
            "196^2 = 38416\n",
            "198^2 = 39204\n",
            "200^2 = 40000\n"
          ]
        }
      ],
      "source": [
        "print(\"\\nExercise 3: Squares of Even Numbers (100 to 200)\")\n",
        "for i in range(100, 201):\n",
        "    if i % 2 == 0:\n",
        "        print(f\"{i}^2 = {i**2}\")\n"
      ]
    },
    {
      "cell_type": "code",
      "execution_count": 6,
      "metadata": {
        "id": "LccJN8fp_G88",
        "colab": {
          "base_uri": "https://localhost:8080/"
        },
        "outputId": "1de228b2-d0f6-4c31-ab27-4ab6805f0382"
      },
      "outputs": [
        {
          "output_type": "stream",
          "name": "stdout",
          "text": [
            "\n",
            "Exercise 4: Word Counter\n",
            "'this': 2\n",
            "'is': 1\n",
            "'a': 1\n",
            "'sample': 1\n",
            "'text.': 1\n",
            "'text': 1\n",
            "'will': 1\n",
            "'be': 1\n",
            "'used': 1\n",
            "'to': 1\n",
            "'demonstrate': 1\n",
            "'the': 1\n",
            "'word': 1\n",
            "'counter.': 1\n"
          ]
        }
      ],
      "source": [
        "print(\"\\nExercise 4: Word Counter\")\n",
        "\n",
        "input_text = \"This is a sample text. This text will be used to demonstrate the word counter.\"\n",
        "\n",
        "# Convert text to lowercase and split words\n",
        "words = input_text.split()\n",
        "word_count = {}\n",
        "\n",
        "for word in words:\n",
        "    word = word.strip().lower()\n",
        "    word_count[word] = word_count.get(word, 0) + 1\n",
        "\n",
        "# Display word counts\n",
        "for word, count in word_count.items():\n",
        "    print(f\"'{word}': {count}\")\n"
      ]
    },
    {
      "cell_type": "code",
      "execution_count": 7,
      "metadata": {
        "id": "ovhO-_mX_K0W",
        "colab": {
          "base_uri": "https://localhost:8080/"
        },
        "outputId": "eaa74da0-0ce1-4924-9ad1-60018624d735"
      },
      "outputs": [
        {
          "output_type": "stream",
          "name": "stdout",
          "text": [
            "\n",
            "Exercise 5: Palindrome Checker\n",
            "Enter a word or phrase: 5225\n",
            "It's a palindrome!\n"
          ]
        }
      ],
      "source": [
        "def is_palindrome(s):\n",
        "    \"\"\"Check if a string is a palindrome.\"\"\"\n",
        "    cleaned = ''.join(char.lower() for char in s if char.isalnum())  # Remove punctuation and spaces\n",
        "    return cleaned == cleaned[::-1]\n",
        "\n",
        "# Example usage\n",
        "print(\"\\nExercise 5: Palindrome Checker\")\n",
        "user_input = input(\"Enter a word or phrase: \")\n",
        "if is_palindrome(user_input):\n",
        "    print(\"It's a palindrome!\")\n",
        "else:\n",
        "    print(\"Not a palindrome.\")"
      ]
    },
    {
      "cell_type": "code",
      "execution_count": null,
      "metadata": {
        "id": "uiL-7xGbANo7"
      },
      "outputs": [],
      "source": []
    }
  ],
  "metadata": {
    "colab": {
      "provenance": []
    },
    "kernelspec": {
      "display_name": "Python 3",
      "name": "python3"
    },
    "language_info": {
      "name": "python"
    }
  },
  "nbformat": 4,
  "nbformat_minor": 0
}